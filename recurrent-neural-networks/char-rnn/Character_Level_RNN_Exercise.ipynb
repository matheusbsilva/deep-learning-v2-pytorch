{
 "cells": [
  {
   "cell_type": "markdown",
   "metadata": {},
   "source": [
    "# Character-Level LSTM in PyTorch\n",
    "\n",
    "In this notebook, I'll construct a character-level LSTM with PyTorch. The network will train character by character on some text, then generate new text character by character. As an example, I will train on Anna Karenina. **This model will be able to generate new text based on the text from the book!**\n",
    "\n",
    "This network is based off of Andrej Karpathy's [post on RNNs](http://karpathy.github.io/2015/05/21/rnn-effectiveness/) and [implementation in Torch](https://github.com/karpathy/char-rnn). Below is the general architecture of the character-wise RNN.\n",
    "\n",
    "<img src=\"assets/charseq.jpeg\" width=\"500\">"
   ]
  },
  {
   "cell_type": "markdown",
   "metadata": {},
   "source": [
    "First let's load in our required resources for data loading and model creation."
   ]
  },
  {
   "cell_type": "code",
   "execution_count": 1,
   "metadata": {},
   "outputs": [],
   "source": [
    "import numpy as np\n",
    "import torch\n",
    "from torch import nn\n",
    "import torch.nn.functional as F"
   ]
  },
  {
   "cell_type": "markdown",
   "metadata": {},
   "source": [
    "## Load in Data\n",
    "\n",
    "Then, we'll load the Anna Karenina text file and convert it into integers for our network to use. "
   ]
  },
  {
   "cell_type": "code",
   "execution_count": 2,
   "metadata": {},
   "outputs": [],
   "source": [
    "# open text file and read in data as `text`\n",
    "with open('data/anna.txt', 'r') as f:\n",
    "    text = f.read()"
   ]
  },
  {
   "cell_type": "markdown",
   "metadata": {},
   "source": [
    "Let's check out the first 100 characters, make sure everything is peachy. According to the [American Book Review](http://americanbookreview.org/100bestlines.asp), this is the 6th best first line of a book ever."
   ]
  },
  {
   "cell_type": "code",
   "execution_count": 3,
   "metadata": {},
   "outputs": [
    {
     "data": {
      "text/plain": [
       "'Chapter 1\\n\\n\\nHappy families are all alike; every unhappy family is unhappy in its own\\nway.\\n\\nEverythin'"
      ]
     },
     "execution_count": 3,
     "metadata": {},
     "output_type": "execute_result"
    }
   ],
   "source": [
    "text[:100]"
   ]
  },
  {
   "cell_type": "markdown",
   "metadata": {},
   "source": [
    "### Tokenization\n",
    "\n",
    "In the cells, below, I'm creating a couple **dictionaries** to convert the characters to and from integers. Encoding the characters as integers makes it easier to use as input in the network."
   ]
  },
  {
   "cell_type": "code",
   "execution_count": 4,
   "metadata": {},
   "outputs": [],
   "source": [
    "# encode the text and map each character to an integer and vice versa\n",
    "\n",
    "# we create two dictionaries:\n",
    "# 1. int2char, which maps integers to characters\n",
    "# 2. char2int, which maps characters to unique integers\n",
    "chars = tuple(set(text))\n",
    "int2char = dict(enumerate(chars))\n",
    "char2int = {ch: ii for ii, ch in int2char.items()}\n",
    "\n",
    "# encode the text\n",
    "encoded = np.array([char2int[ch] for ch in text])"
   ]
  },
  {
   "cell_type": "markdown",
   "metadata": {},
   "source": [
    "And we can see those same characters from above, encoded as integers."
   ]
  },
  {
   "cell_type": "code",
   "execution_count": 5,
   "metadata": {},
   "outputs": [
    {
     "data": {
      "text/plain": [
       "array([ 7, 27,  1, 55, 73, 26,  2, 49, 42, 81, 81, 81, 37,  1, 55, 55, 38,\n",
       "       49, 31,  1, 68, 25, 29, 25, 26, 75, 49,  1,  2, 26, 49,  1, 29, 29,\n",
       "       49,  1, 29, 25, 35, 26, 18, 49, 26,  9, 26,  2, 38, 49, 70, 30, 27,\n",
       "        1, 55, 55, 38, 49, 31,  1, 68, 25, 29, 38, 49, 25, 75, 49, 70, 30,\n",
       "       27,  1, 55, 55, 38, 49, 25, 30, 49, 25, 73, 75, 49, 20, 60, 30, 81,\n",
       "       60,  1, 38, 22, 81, 81,  5,  9, 26,  2, 38, 73, 27, 25, 30])"
      ]
     },
     "execution_count": 5,
     "metadata": {},
     "output_type": "execute_result"
    }
   ],
   "source": [
    "encoded[:100]"
   ]
  },
  {
   "cell_type": "markdown",
   "metadata": {},
   "source": [
    "## Pre-processing the data\n",
    "\n",
    "As you can see in our char-RNN image above, our LSTM expects an input that is **one-hot encoded** meaning that each character is converted into an integer (via our created dictionary) and *then* converted into a column vector where only it's corresponding integer index will have the value of 1 and the rest of the vector will be filled with 0's. Since we're one-hot encoding the data, let's make a function to do that!\n"
   ]
  },
  {
   "cell_type": "code",
   "execution_count": 6,
   "metadata": {},
   "outputs": [],
   "source": [
    "def one_hot_encode(arr, n_labels):\n",
    "    \n",
    "    # Initialize the the encoded array\n",
    "    one_hot = np.zeros((arr.size, n_labels), dtype=np.float32)\n",
    "    \n",
    "    # Fill the appropriate elements with ones\n",
    "    one_hot[np.arange(one_hot.shape[0]), arr.flatten()] = 1.\n",
    "    \n",
    "    # Finally reshape it to get back to the original array\n",
    "    one_hot = one_hot.reshape((*arr.shape, n_labels))\n",
    "    \n",
    "    return one_hot"
   ]
  },
  {
   "cell_type": "code",
   "execution_count": 7,
   "metadata": {},
   "outputs": [
    {
     "name": "stdout",
     "output_type": "stream",
     "text": [
      "[[[0. 0. 0. 1. 0. 0. 0. 0.]\n",
      "  [0. 0. 0. 0. 0. 1. 0. 0.]\n",
      "  [0. 1. 0. 0. 0. 0. 0. 0.]]]\n"
     ]
    }
   ],
   "source": [
    "# check that the function works as expected\n",
    "test_seq = np.array([[3, 5, 1]])\n",
    "one_hot = one_hot_encode(test_seq, 8)\n",
    "\n",
    "print(one_hot)"
   ]
  },
  {
   "cell_type": "markdown",
   "metadata": {},
   "source": [
    "## Making training mini-batches\n",
    "\n",
    "\n",
    "To train on this data, we also want to create mini-batches for training. Remember that we want our batches to be multiple sequences of some desired number of sequence steps. Considering a simple example, our batches would look like this:\n",
    "\n",
    "<img src=\"assets/sequence_batching@1x.png\" width=500px>\n",
    "\n",
    "\n",
    "<br>\n",
    "\n",
    "In this example, we'll take the encoded characters (passed in as the `arr` parameter) and split them into multiple sequences, given by `batch_size`. Each of our sequences will be `seq_length` long.\n",
    "\n",
    "### Creating Batches\n",
    "\n",
    "**1. The first thing we need to do is discard some of the text so we only have completely full mini-batches. **\n",
    "\n",
    "Each batch contains $N \\times M$ characters, where $N$ is the batch size (the number of sequences in a batch) and $M$ is the seq_length or number of time steps in a sequence. Then, to get the total number of batches, $K$, that we can make from the array `arr`, you divide the length of `arr` by the number of characters per batch. Once you know the number of batches, you can get the total number of characters to keep from `arr`, $N * M * K$.\n",
    "\n",
    "**2. After that, we need to split `arr` into $N$ batches. ** \n",
    "\n",
    "You can do this using `arr.reshape(size)` where `size` is a tuple containing the dimensions sizes of the reshaped array. We know we want $N$ sequences in a batch, so let's make that the size of the first dimension. For the second dimension, you can use `-1` as a placeholder in the size, it'll fill up the array with the appropriate data for you. After this, you should have an array that is $N \\times (M * K)$.\n",
    "\n",
    "**3. Now that we have this array, we can iterate through it to get our mini-batches. **\n",
    "\n",
    "The idea is each batch is a $N \\times M$ window on the $N \\times (M * K)$ array. For each subsequent batch, the window moves over by `seq_length`. We also want to create both the input and target arrays. Remember that the targets are just the inputs shifted over by one character. The way I like to do this window is use `range` to take steps of size `n_steps` from $0$ to `arr.shape[1]`, the total number of tokens in each sequence. That way, the integers you get from `range` always point to the start of a batch, and each window is `seq_length` wide.\n",
    "\n",
    "> **TODO:** Write the code for creating batches in the function below. The exercises in this notebook _will not be easy_. I've provided a notebook with solutions alongside this notebook. If you get stuck, checkout the solutions. The most important thing is that you don't copy and paste the code into here, **type out the solution code yourself.**"
   ]
  },
  {
   "cell_type": "code",
   "execution_count": 15,
   "metadata": {},
   "outputs": [],
   "source": [
    "def get_batches(arr, batch_size, seq_length):\n",
    "    '''Create a generator that returns batches of size\n",
    "       batch_size x seq_length from arr.\n",
    "       \n",
    "       Arguments\n",
    "       ---------\n",
    "       arr: Array you want to make batches from\n",
    "       batch_size: Batch size, the number of sequences per batch\n",
    "       seq_length: Number of encoded chars in a sequence\n",
    "    '''\n",
    "    \n",
    "    ## TODO: Get the number of batches we can make\n",
    "    batch_size_total = batch_size * seq_length\n",
    "    n_batches = len(arr) // batch_size_total\n",
    "    \n",
    "    ## TODO: Keep only enough characters to make full batches\n",
    "    arr = arr[:n_batches * batch_size_total]\n",
    "    \n",
    "    ## TODO: Reshape into batch_size rows\n",
    "    arr = arr.reshape((batch_size, -1))\n",
    "    \n",
    "    ## TODO: Iterate over the batches using a window of size seq_length\n",
    "    for n in range(0, arr.shape[1], seq_length):\n",
    "        # The features\n",
    "        x = arr[:, n:n+seq_length]\n",
    "        # The targets, shifted by one\n",
    "        y = np.zeros_like(x)\n",
    "        \n",
    "        try:\n",
    "            y[:, :-1], y[:, -1] = x[:, 1:], arr[:, n+seq_length]\n",
    "        except IndexError:\n",
    "            y[:, :-1], y[:, -1] = x[:, 1:], arr[:, 0]\n",
    "        yield x, y"
   ]
  },
  {
   "cell_type": "markdown",
   "metadata": {},
   "source": [
    "### Test Your Implementation\n",
    "\n",
    "Now I'll make some data sets and we can check out what's going on as we batch data. Here, as an example, I'm going to use a batch size of 8 and 50 sequence steps."
   ]
  },
  {
   "cell_type": "code",
   "execution_count": 16,
   "metadata": {},
   "outputs": [],
   "source": [
    "batches = get_batches(encoded, 8, 50)\n",
    "x, y = next(batches)"
   ]
  },
  {
   "cell_type": "code",
   "execution_count": 17,
   "metadata": {},
   "outputs": [
    {
     "name": "stdout",
     "output_type": "stream",
     "text": [
      "x\n",
      " [[ 7 27  1 55 73 26  2 49 42 81]\n",
      " [75 20 30 49 73 27  1 73 49  1]\n",
      " [26 30 82 49 20  2 49  1 49 31]\n",
      " [75 49 73 27 26 49  6 27 25 26]\n",
      " [49 75  1 60 49 27 26  2 49 73]\n",
      " [ 6 70 75 75 25 20 30 49  1 30]\n",
      " [49  8 30 30  1 49 27  1 82 49]\n",
      " [59 50 29 20 30 75 35 38 22 49]]\n",
      "\n",
      "y\n",
      " [[27  1 55 73 26  2 49 42 81 81]\n",
      " [20 30 49 73 27  1 73 49  1 73]\n",
      " [30 82 49 20  2 49  1 49 31 20]\n",
      " [49 73 27 26 49  6 27 25 26 31]\n",
      " [75  1 60 49 27 26  2 49 73 26]\n",
      " [70 75 75 25 20 30 49  1 30 82]\n",
      " [ 8 30 30  1 49 27  1 82 49 75]\n",
      " [50 29 20 30 75 35 38 22 49 76]]\n"
     ]
    }
   ],
   "source": [
    "# printing out the first 10 items in a sequence\n",
    "print('x\\n', x[:10, :10])\n",
    "print('\\ny\\n', y[:10, :10])"
   ]
  },
  {
   "cell_type": "markdown",
   "metadata": {},
   "source": [
    "If you implemented `get_batches` correctly, the above output should look something like \n",
    "```\n",
    "x\n",
    " [[25  8 60 11 45 27 28 73  1  2]\n",
    " [17  7 20 73 45  8 60 45 73 60]\n",
    " [27 20 80 73  7 28 73 60 73 65]\n",
    " [17 73 45  8 27 73 66  8 46 27]\n",
    " [73 17 60 12 73  8 27 28 73 45]\n",
    " [66 64 17 17 46  7 20 73 60 20]\n",
    " [73 76 20 20 60 73  8 60 80 73]\n",
    " [47 35 43  7 20 17 24 50 37 73]]\n",
    "\n",
    "y\n",
    " [[ 8 60 11 45 27 28 73  1  2  2]\n",
    " [ 7 20 73 45  8 60 45 73 60 45]\n",
    " [20 80 73  7 28 73 60 73 65  7]\n",
    " [73 45  8 27 73 66  8 46 27 65]\n",
    " [17 60 12 73  8 27 28 73 45 27]\n",
    " [64 17 17 46  7 20 73 60 20 80]\n",
    " [76 20 20 60 73  8 60 80 73 17]\n",
    " [35 43  7 20 17 24 50 37 73 36]]\n",
    " ```\n",
    " although the exact numbers may be different. Check to make sure the data is shifted over one step for `y`."
   ]
  },
  {
   "cell_type": "markdown",
   "metadata": {},
   "source": [
    "---\n",
    "## Defining the network with PyTorch\n",
    "\n",
    "Below is where you'll define the network.\n",
    "\n",
    "<img src=\"assets/charRNN.png\" width=500px>\n",
    "\n",
    "Next, you'll use PyTorch to define the architecture of the network. We start by defining the layers and operations we want. Then, define a method for the forward pass. You've also been given a method for predicting characters."
   ]
  },
  {
   "cell_type": "markdown",
   "metadata": {},
   "source": [
    "### Model Structure\n",
    "\n",
    "In `__init__` the suggested structure is as follows:\n",
    "* Create and store the necessary dictionaries (this has been done for you)\n",
    "* Define an LSTM layer that takes as params: an input size (the number of characters), a hidden layer size `n_hidden`, a number of layers `n_layers`, a dropout probability `drop_prob`, and a batch_first boolean (True, since we are batching)\n",
    "* Define a dropout layer with `drop_prob`\n",
    "* Define a fully-connected layer with params: input size `n_hidden` and output size (the number of characters)\n",
    "* Finally, initialize the weights (again, this has been given)\n",
    "\n",
    "Note that some parameters have been named and given in the `__init__` function, and we use them and store them by doing something like `self.drop_prob = drop_prob`."
   ]
  },
  {
   "cell_type": "markdown",
   "metadata": {},
   "source": [
    "---\n",
    "### LSTM Inputs/Outputs\n",
    "\n",
    "You can create a basic [LSTM layer](https://pytorch.org/docs/stable/nn.html#lstm) as follows\n",
    "\n",
    "```python\n",
    "self.lstm = nn.LSTM(input_size, n_hidden, n_layers, \n",
    "                            dropout=drop_prob, batch_first=True)\n",
    "```\n",
    "\n",
    "where `input_size` is the number of characters this cell expects to see as sequential input, and `n_hidden` is the number of units in the hidden layers in the cell. And we can add dropout by adding a dropout parameter with a specified probability; this will automatically add dropout to the inputs or outputs. Finally, in the `forward` function, we can stack up the LSTM cells into layers using `.view`. With this, you pass in a list of cells and it will send the output of one cell into the next cell.\n",
    "\n",
    "We also need to create an initial hidden state of all zeros. This is done like so\n",
    "\n",
    "```python\n",
    "self.init_hidden()\n",
    "```"
   ]
  },
  {
   "cell_type": "code",
   "execution_count": 18,
   "metadata": {},
   "outputs": [
    {
     "name": "stdout",
     "output_type": "stream",
     "text": [
      "Training on GPU!\n"
     ]
    }
   ],
   "source": [
    "# check if GPU is available\n",
    "train_on_gpu = torch.cuda.is_available()\n",
    "if(train_on_gpu):\n",
    "    print('Training on GPU!')\n",
    "else: \n",
    "    print('No GPU available, training on CPU; consider making n_epochs very small.')"
   ]
  },
  {
   "cell_type": "code",
   "execution_count": 26,
   "metadata": {},
   "outputs": [],
   "source": [
    "class CharRNN(nn.Module):\n",
    "    \n",
    "    def __init__(self, tokens, n_hidden=256, n_layers=2,\n",
    "                               drop_prob=0.5, lr=0.001):\n",
    "        super().__init__()\n",
    "        self.drop_prob = drop_prob\n",
    "        self.n_layers = n_layers\n",
    "        self.n_hidden = n_hidden\n",
    "        self.lr = lr\n",
    "        \n",
    "        # creating character dictionaries\n",
    "        self.chars = tokens\n",
    "        self.int2char = dict(enumerate(self.chars))\n",
    "        self.char2int = {ch: ii for ii, ch in self.int2char.items()}\n",
    "        \n",
    "        ## TODO: define the layers of the model\n",
    "        self.lstm = nn.LSTM(len(self.chars), self.n_hidden, self.n_layers,\n",
    "                            dropout=self.drop_prob, batch_first=True)\n",
    "        self.dropout = nn.Dropout(p=self.drop_prob)\n",
    "        self.fc = nn.Linear(n_hidden, len(self.chars))\n",
    "    \n",
    "    def forward(self, x, hidden):\n",
    "        ''' Forward pass through the network. \n",
    "            These inputs are x, and the hidden/cell state `hidden`. '''\n",
    "                \n",
    "        ## TODO: Get the outputs and the new hidden state from the lstm\n",
    "        out, hidden = self.lstm(x, hidden)\n",
    "        out = self.dropout(out)\n",
    "        out = out.contiguous().view(-1, self.n_hidden)\n",
    "        out = self.fc(out)\n",
    "        \n",
    "        # return the final output and the hidden state\n",
    "        return out, hidden\n",
    "    \n",
    "    \n",
    "    def init_hidden(self, batch_size):\n",
    "        ''' Initializes hidden state '''\n",
    "        # Create two new tensors with sizes n_layers x batch_size x n_hidden,\n",
    "        # initialized to zero, for hidden state and cell state of LSTM\n",
    "        weight = next(self.parameters()).data\n",
    "        \n",
    "        if (train_on_gpu):\n",
    "            hidden = (weight.new(self.n_layers, batch_size, self.n_hidden).zero_().cuda(),\n",
    "                  weight.new(self.n_layers, batch_size, self.n_hidden).zero_().cuda())\n",
    "        else:\n",
    "            hidden = (weight.new(self.n_layers, batch_size, self.n_hidden).zero_(),\n",
    "                      weight.new(self.n_layers, batch_size, self.n_hidden).zero_())\n",
    "        \n",
    "        return hidden\n",
    "        "
   ]
  },
  {
   "cell_type": "markdown",
   "metadata": {},
   "source": [
    "## Time to train\n",
    "\n",
    "The train function gives us the ability to set the number of epochs, the learning rate, and other parameters.\n",
    "\n",
    "Below we're using an Adam optimizer and cross entropy loss since we are looking at character class scores as output. We calculate the loss and perform backpropagation, as usual!\n",
    "\n",
    "A couple of details about training: \n",
    ">* Within the batch loop, we detach the hidden state from its history; this time setting it equal to a new *tuple* variable because an LSTM has a hidden state that is a tuple of the hidden and cell states.\n",
    "* We use [`clip_grad_norm_`](https://pytorch.org/docs/stable/_modules/torch/nn/utils/clip_grad.html) to help prevent exploding gradients."
   ]
  },
  {
   "cell_type": "code",
   "execution_count": 27,
   "metadata": {},
   "outputs": [],
   "source": [
    "def train(net, data, epochs=10, batch_size=10, seq_length=50, lr=0.001, clip=5, val_frac=0.1, print_every=10):\n",
    "    ''' Training a network \n",
    "    \n",
    "        Arguments\n",
    "        ---------\n",
    "        \n",
    "        net: CharRNN network\n",
    "        data: text data to train the network\n",
    "        epochs: Number of epochs to train\n",
    "        batch_size: Number of mini-sequences per mini-batch, aka batch size\n",
    "        seq_length: Number of character steps per mini-batch\n",
    "        lr: learning rate\n",
    "        clip: gradient clipping\n",
    "        val_frac: Fraction of data to hold out for validation\n",
    "        print_every: Number of steps for printing training and validation loss\n",
    "    \n",
    "    '''\n",
    "    net.train()\n",
    "    \n",
    "    opt = torch.optim.Adam(net.parameters(), lr=lr)\n",
    "    criterion = nn.CrossEntropyLoss()\n",
    "    \n",
    "    # create training and validation data\n",
    "    val_idx = int(len(data)*(1-val_frac))\n",
    "    data, val_data = data[:val_idx], data[val_idx:]\n",
    "    \n",
    "    if(train_on_gpu):\n",
    "        net.cuda()\n",
    "    \n",
    "    counter = 0\n",
    "    n_chars = len(net.chars)\n",
    "    for e in range(epochs):\n",
    "        # initialize hidden state\n",
    "        h = net.init_hidden(batch_size)\n",
    "        \n",
    "        for x, y in get_batches(data, batch_size, seq_length):\n",
    "            counter += 1\n",
    "            \n",
    "            # One-hot encode our data and make them Torch tensors\n",
    "            x = one_hot_encode(x, n_chars)\n",
    "            inputs, targets = torch.from_numpy(x), torch.from_numpy(y)\n",
    "            \n",
    "            if(train_on_gpu):\n",
    "                inputs, targets = inputs.cuda(), targets.cuda()\n",
    "\n",
    "            # Creating new variables for the hidden state, otherwise\n",
    "            # we'd backprop through the entire training history\n",
    "            h = tuple([each.data for each in h])\n",
    "\n",
    "            # zero accumulated gradients\n",
    "            net.zero_grad()\n",
    "            \n",
    "            # get the output from the model\n",
    "            output, h = net(inputs, h)\n",
    "            \n",
    "            # calculate the loss and perform backprop\n",
    "            loss = criterion(output, targets.view(batch_size*seq_length).long())\n",
    "            loss.backward()\n",
    "            # `clip_grad_norm` helps prevent the exploding gradient problem in RNNs / LSTMs.\n",
    "            nn.utils.clip_grad_norm_(net.parameters(), clip)\n",
    "            opt.step()\n",
    "            \n",
    "            # loss stats\n",
    "            if counter % print_every == 0:\n",
    "                # Get validation loss\n",
    "                val_h = net.init_hidden(batch_size)\n",
    "                val_losses = []\n",
    "                net.eval()\n",
    "                for x, y in get_batches(val_data, batch_size, seq_length):\n",
    "                    # One-hot encode our data and make them Torch tensors\n",
    "                    x = one_hot_encode(x, n_chars)\n",
    "                    x, y = torch.from_numpy(x), torch.from_numpy(y)\n",
    "                    \n",
    "                    # Creating new variables for the hidden state, otherwise\n",
    "                    # we'd backprop through the entire training history\n",
    "                    val_h = tuple([each.data for each in val_h])\n",
    "                    \n",
    "                    inputs, targets = x, y\n",
    "                    if(train_on_gpu):\n",
    "                        inputs, targets = inputs.cuda(), targets.cuda()\n",
    "\n",
    "                    output, val_h = net(inputs, val_h)\n",
    "                    val_loss = criterion(output, targets.view(batch_size*seq_length).long())\n",
    "                \n",
    "                    val_losses.append(val_loss.item())\n",
    "                \n",
    "                net.train() # reset to train mode after iterationg through validation data\n",
    "                \n",
    "                print(\"Epoch: {}/{}...\".format(e+1, epochs),\n",
    "                      \"Step: {}...\".format(counter),\n",
    "                      \"Loss: {:.4f}...\".format(loss.item()),\n",
    "                      \"Val Loss: {:.4f}\".format(np.mean(val_losses)))"
   ]
  },
  {
   "cell_type": "markdown",
   "metadata": {},
   "source": [
    "## Instantiating the model\n",
    "\n",
    "Now we can actually train the network. First we'll create the network itself, with some given hyperparameters. Then, define the mini-batches sizes, and start training!"
   ]
  },
  {
   "cell_type": "code",
   "execution_count": 28,
   "metadata": {},
   "outputs": [
    {
     "name": "stdout",
     "output_type": "stream",
     "text": [
      "CharRNN(\n",
      "  (lstm): LSTM(83, 512, num_layers=2, batch_first=True, dropout=0.5)\n",
      "  (dropout): Dropout(p=0.5, inplace=False)\n",
      "  (fc): Linear(in_features=512, out_features=83, bias=True)\n",
      ")\n"
     ]
    }
   ],
   "source": [
    "## TODO: set your model hyperparameters\n",
    "# define and print the net\n",
    "n_hidden=512\n",
    "n_layers=2\n",
    "\n",
    "net = CharRNN(chars, n_hidden, n_layers)\n",
    "print(net)"
   ]
  },
  {
   "cell_type": "markdown",
   "metadata": {},
   "source": [
    "### Set your training hyperparameters!"
   ]
  },
  {
   "cell_type": "code",
   "execution_count": 29,
   "metadata": {
    "scrolled": true
   },
   "outputs": [
    {
     "name": "stdout",
     "output_type": "stream",
     "text": [
      "Epoch: 1/10... Step: 10... Loss: 3.2668... Val Loss: 3.1931\n",
      "Epoch: 1/10... Step: 20... Loss: 3.1509... Val Loss: 3.1323\n",
      "Epoch: 1/10... Step: 30... Loss: 3.1406... Val Loss: 3.1219\n",
      "Epoch: 1/10... Step: 40... Loss: 3.1160... Val Loss: 3.1200\n",
      "Epoch: 1/10... Step: 50... Loss: 3.1441... Val Loss: 3.1178\n",
      "Epoch: 1/10... Step: 60... Loss: 3.1229... Val Loss: 3.1164\n",
      "Epoch: 1/10... Step: 70... Loss: 3.1091... Val Loss: 3.1149\n",
      "Epoch: 1/10... Step: 80... Loss: 3.1237... Val Loss: 3.1117\n",
      "Epoch: 1/10... Step: 90... Loss: 3.1201... Val Loss: 3.1043\n",
      "Epoch: 1/10... Step: 100... Loss: 3.0957... Val Loss: 3.0888\n",
      "Epoch: 1/10... Step: 110... Loss: 3.0666... Val Loss: 3.0456\n",
      "Epoch: 1/10... Step: 120... Loss: 2.9750... Val Loss: 2.9665\n",
      "Epoch: 1/10... Step: 130... Loss: 2.8727... Val Loss: 2.8466\n",
      "Epoch: 2/10... Step: 140... Loss: 2.7811... Val Loss: 2.7132\n",
      "Epoch: 2/10... Step: 150... Loss: 2.6622... Val Loss: 2.6064\n",
      "Epoch: 2/10... Step: 160... Loss: 2.5786... Val Loss: 2.5386\n",
      "Epoch: 2/10... Step: 170... Loss: 2.5064... Val Loss: 2.4966\n",
      "Epoch: 2/10... Step: 180... Loss: 2.4759... Val Loss: 2.4441\n",
      "Epoch: 2/10... Step: 190... Loss: 2.4259... Val Loss: 2.4079\n",
      "Epoch: 2/10... Step: 200... Loss: 2.4074... Val Loss: 2.3789\n",
      "Epoch: 2/10... Step: 210... Loss: 2.3787... Val Loss: 2.3449\n",
      "Epoch: 2/10... Step: 220... Loss: 2.3484... Val Loss: 2.3288\n",
      "Epoch: 2/10... Step: 230... Loss: 2.3313... Val Loss: 2.2883\n",
      "Epoch: 2/10... Step: 240... Loss: 2.3080... Val Loss: 2.2622\n",
      "Epoch: 2/10... Step: 250... Loss: 2.2389... Val Loss: 2.2347\n",
      "Epoch: 2/10... Step: 260... Loss: 2.2121... Val Loss: 2.2061\n",
      "Epoch: 2/10... Step: 270... Loss: 2.2102... Val Loss: 2.1840\n",
      "Epoch: 3/10... Step: 280... Loss: 2.2102... Val Loss: 2.1629\n",
      "Epoch: 3/10... Step: 290... Loss: 2.1794... Val Loss: 2.1371\n",
      "Epoch: 3/10... Step: 300... Loss: 2.1551... Val Loss: 2.1167\n",
      "Epoch: 3/10... Step: 310... Loss: 2.1231... Val Loss: 2.0951\n",
      "Epoch: 3/10... Step: 320... Loss: 2.1000... Val Loss: 2.0780\n",
      "Epoch: 3/10... Step: 330... Loss: 2.0794... Val Loss: 2.0671\n",
      "Epoch: 3/10... Step: 340... Loss: 2.0900... Val Loss: 2.0415\n",
      "Epoch: 3/10... Step: 350... Loss: 2.0787... Val Loss: 2.0247\n",
      "Epoch: 3/10... Step: 360... Loss: 2.0012... Val Loss: 2.0045\n",
      "Epoch: 3/10... Step: 370... Loss: 2.0307... Val Loss: 1.9894\n",
      "Epoch: 3/10... Step: 380... Loss: 2.0083... Val Loss: 1.9731\n",
      "Epoch: 3/10... Step: 390... Loss: 1.9783... Val Loss: 1.9618\n",
      "Epoch: 3/10... Step: 400... Loss: 1.9497... Val Loss: 1.9476\n",
      "Epoch: 3/10... Step: 410... Loss: 1.9676... Val Loss: 1.9337\n",
      "Epoch: 4/10... Step: 420... Loss: 1.9467... Val Loss: 1.9174\n",
      "Epoch: 4/10... Step: 430... Loss: 1.9463... Val Loss: 1.9024\n",
      "Epoch: 4/10... Step: 440... Loss: 1.9206... Val Loss: 1.8909\n",
      "Epoch: 4/10... Step: 450... Loss: 1.8692... Val Loss: 1.8765\n",
      "Epoch: 4/10... Step: 460... Loss: 1.8512... Val Loss: 1.8615\n",
      "Epoch: 4/10... Step: 470... Loss: 1.8910... Val Loss: 1.8552\n",
      "Epoch: 4/10... Step: 480... Loss: 1.8674... Val Loss: 1.8377\n",
      "Epoch: 4/10... Step: 490... Loss: 1.8758... Val Loss: 1.8294\n",
      "Epoch: 4/10... Step: 500... Loss: 1.8712... Val Loss: 1.8190\n",
      "Epoch: 4/10... Step: 510... Loss: 1.8370... Val Loss: 1.8090\n",
      "Epoch: 4/10... Step: 520... Loss: 1.8542... Val Loss: 1.7981\n",
      "Epoch: 4/10... Step: 530... Loss: 1.8096... Val Loss: 1.7919\n",
      "Epoch: 4/10... Step: 540... Loss: 1.7811... Val Loss: 1.7814\n",
      "Epoch: 4/10... Step: 550... Loss: 1.8250... Val Loss: 1.7667\n",
      "Epoch: 5/10... Step: 560... Loss: 1.7865... Val Loss: 1.7615\n",
      "Epoch: 5/10... Step: 570... Loss: 1.7713... Val Loss: 1.7569\n",
      "Epoch: 5/10... Step: 580... Loss: 1.7557... Val Loss: 1.7426\n",
      "Epoch: 5/10... Step: 590... Loss: 1.7546... Val Loss: 1.7325\n",
      "Epoch: 5/10... Step: 600... Loss: 1.7409... Val Loss: 1.7235\n",
      "Epoch: 5/10... Step: 610... Loss: 1.7199... Val Loss: 1.7177\n",
      "Epoch: 5/10... Step: 620... Loss: 1.7224... Val Loss: 1.7075\n",
      "Epoch: 5/10... Step: 630... Loss: 1.7491... Val Loss: 1.7032\n",
      "Epoch: 5/10... Step: 640... Loss: 1.7174... Val Loss: 1.6965\n",
      "Epoch: 5/10... Step: 650... Loss: 1.7008... Val Loss: 1.6906\n",
      "Epoch: 5/10... Step: 660... Loss: 1.6786... Val Loss: 1.6777\n",
      "Epoch: 5/10... Step: 670... Loss: 1.7063... Val Loss: 1.6748\n",
      "Epoch: 5/10... Step: 680... Loss: 1.7030... Val Loss: 1.6668\n",
      "Epoch: 5/10... Step: 690... Loss: 1.6735... Val Loss: 1.6617\n",
      "Epoch: 6/10... Step: 700... Loss: 1.6789... Val Loss: 1.6542\n",
      "Epoch: 6/10... Step: 710... Loss: 1.6624... Val Loss: 1.6459\n",
      "Epoch: 6/10... Step: 720... Loss: 1.6496... Val Loss: 1.6405\n",
      "Epoch: 6/10... Step: 730... Loss: 1.6562... Val Loss: 1.6338\n",
      "Epoch: 6/10... Step: 740... Loss: 1.6389... Val Loss: 1.6312\n",
      "Epoch: 6/10... Step: 750... Loss: 1.6149... Val Loss: 1.6260\n",
      "Epoch: 6/10... Step: 760... Loss: 1.6511... Val Loss: 1.6185\n",
      "Epoch: 6/10... Step: 770... Loss: 1.6302... Val Loss: 1.6180\n",
      "Epoch: 6/10... Step: 780... Loss: 1.6183... Val Loss: 1.6086\n",
      "Epoch: 6/10... Step: 790... Loss: 1.6110... Val Loss: 1.6063\n",
      "Epoch: 6/10... Step: 800... Loss: 1.6261... Val Loss: 1.5993\n",
      "Epoch: 6/10... Step: 810... Loss: 1.6027... Val Loss: 1.5955\n",
      "Epoch: 6/10... Step: 820... Loss: 1.5759... Val Loss: 1.5899\n",
      "Epoch: 6/10... Step: 830... Loss: 1.6172... Val Loss: 1.5852\n",
      "Epoch: 7/10... Step: 840... Loss: 1.5664... Val Loss: 1.5771\n",
      "Epoch: 7/10... Step: 850... Loss: 1.5827... Val Loss: 1.5736\n",
      "Epoch: 7/10... Step: 860... Loss: 1.5657... Val Loss: 1.5690\n",
      "Epoch: 7/10... Step: 870... Loss: 1.5839... Val Loss: 1.5678\n",
      "Epoch: 7/10... Step: 880... Loss: 1.5728... Val Loss: 1.5623\n",
      "Epoch: 7/10... Step: 890... Loss: 1.5758... Val Loss: 1.5618\n",
      "Epoch: 7/10... Step: 900... Loss: 1.5589... Val Loss: 1.5584\n",
      "Epoch: 7/10... Step: 910... Loss: 1.5292... Val Loss: 1.5542\n",
      "Epoch: 7/10... Step: 920... Loss: 1.5497... Val Loss: 1.5510\n",
      "Epoch: 7/10... Step: 930... Loss: 1.5345... Val Loss: 1.5437\n",
      "Epoch: 7/10... Step: 940... Loss: 1.5397... Val Loss: 1.5392\n",
      "Epoch: 7/10... Step: 950... Loss: 1.5655... Val Loss: 1.5362\n",
      "Epoch: 7/10... Step: 960... Loss: 1.5528... Val Loss: 1.5307\n",
      "Epoch: 7/10... Step: 970... Loss: 1.5548... Val Loss: 1.5279\n",
      "Epoch: 8/10... Step: 980... Loss: 1.5183... Val Loss: 1.5241\n",
      "Epoch: 8/10... Step: 990... Loss: 1.5263... Val Loss: 1.5189\n",
      "Epoch: 8/10... Step: 1000... Loss: 1.5173... Val Loss: 1.5141\n",
      "Epoch: 8/10... Step: 1010... Loss: 1.5603... Val Loss: 1.5118\n",
      "Epoch: 8/10... Step: 1020... Loss: 1.5247... Val Loss: 1.5103\n",
      "Epoch: 8/10... Step: 1030... Loss: 1.5102... Val Loss: 1.5070\n",
      "Epoch: 8/10... Step: 1040... Loss: 1.5142... Val Loss: 1.5090\n",
      "Epoch: 8/10... Step: 1050... Loss: 1.4996... Val Loss: 1.5050\n",
      "Epoch: 8/10... Step: 1060... Loss: 1.5021... Val Loss: 1.5030\n",
      "Epoch: 8/10... Step: 1070... Loss: 1.5069... Val Loss: 1.4971\n",
      "Epoch: 8/10... Step: 1080... Loss: 1.5034... Val Loss: 1.4952\n",
      "Epoch: 8/10... Step: 1090... Loss: 1.4861... Val Loss: 1.4876\n",
      "Epoch: 8/10... Step: 1100... Loss: 1.4780... Val Loss: 1.4911\n",
      "Epoch: 8/10... Step: 1110... Loss: 1.4887... Val Loss: 1.4821\n",
      "Epoch: 9/10... Step: 1120... Loss: 1.4918... Val Loss: 1.4820\n",
      "Epoch: 9/10... Step: 1130... Loss: 1.4843... Val Loss: 1.4778\n",
      "Epoch: 9/10... Step: 1140... Loss: 1.4967... Val Loss: 1.4739\n",
      "Epoch: 9/10... Step: 1150... Loss: 1.5040... Val Loss: 1.4725\n",
      "Epoch: 9/10... Step: 1160... Loss: 1.4492... Val Loss: 1.4689\n",
      "Epoch: 9/10... Step: 1170... Loss: 1.4669... Val Loss: 1.4702\n",
      "Epoch: 9/10... Step: 1180... Loss: 1.4505... Val Loss: 1.4705\n",
      "Epoch: 9/10... Step: 1190... Loss: 1.4929... Val Loss: 1.4658\n",
      "Epoch: 9/10... Step: 1200... Loss: 1.4459... Val Loss: 1.4590\n",
      "Epoch: 9/10... Step: 1210... Loss: 1.4515... Val Loss: 1.4553\n",
      "Epoch: 9/10... Step: 1220... Loss: 1.4459... Val Loss: 1.4579\n",
      "Epoch: 9/10... Step: 1230... Loss: 1.4246... Val Loss: 1.4558\n",
      "Epoch: 9/10... Step: 1240... Loss: 1.4393... Val Loss: 1.4538\n",
      "Epoch: 9/10... Step: 1250... Loss: 1.4460... Val Loss: 1.4486\n",
      "Epoch: 10/10... Step: 1260... Loss: 1.4524... Val Loss: 1.4493\n",
      "Epoch: 10/10... Step: 1270... Loss: 1.4441... Val Loss: 1.4432\n",
      "Epoch: 10/10... Step: 1280... Loss: 1.4476... Val Loss: 1.4381\n",
      "Epoch: 10/10... Step: 1290... Loss: 1.4462... Val Loss: 1.4435\n",
      "Epoch: 10/10... Step: 1300... Loss: 1.4387... Val Loss: 1.4390\n",
      "Epoch: 10/10... Step: 1310... Loss: 1.4399... Val Loss: 1.4369\n",
      "Epoch: 10/10... Step: 1320... Loss: 1.4143... Val Loss: 1.4389\n",
      "Epoch: 10/10... Step: 1330... Loss: 1.4126... Val Loss: 1.4318\n",
      "Epoch: 10/10... Step: 1340... Loss: 1.4009... Val Loss: 1.4284\n",
      "Epoch: 10/10... Step: 1350... Loss: 1.3929... Val Loss: 1.4269\n",
      "Epoch: 10/10... Step: 1360... Loss: 1.4031... Val Loss: 1.4248\n",
      "Epoch: 10/10... Step: 1370... Loss: 1.3839... Val Loss: 1.4214\n",
      "Epoch: 10/10... Step: 1380... Loss: 1.4366... Val Loss: 1.4176\n",
      "Epoch: 10/10... Step: 1390... Loss: 1.4321... Val Loss: 1.4215\n"
     ]
    }
   ],
   "source": [
    "batch_size = 128\n",
    "seq_length = 100\n",
    "n_epochs =  10# start small if you are just testing initial behavior\n",
    "\n",
    "# train the model\n",
    "train(net, encoded, epochs=n_epochs, batch_size=batch_size, seq_length=seq_length, lr=0.001, print_every=10)"
   ]
  },
  {
   "cell_type": "markdown",
   "metadata": {},
   "source": [
    "## Getting the best model\n",
    "\n",
    "To set your hyperparameters to get the best performance, you'll want to watch the training and validation losses. If your training loss is much lower than the validation loss, you're overfitting. Increase regularization (more dropout) or use a smaller network. If the training and validation losses are close, you're underfitting so you can increase the size of the network."
   ]
  },
  {
   "cell_type": "markdown",
   "metadata": {},
   "source": [
    "## Hyperparameters\n",
    "\n",
    "Here are the hyperparameters for the network.\n",
    "\n",
    "In defining the model:\n",
    "* `n_hidden` - The number of units in the hidden layers.\n",
    "* `n_layers` - Number of hidden LSTM layers to use.\n",
    "\n",
    "We assume that dropout probability and learning rate will be kept at the default, in this example.\n",
    "\n",
    "And in training:\n",
    "* `batch_size` - Number of sequences running through the network in one pass.\n",
    "* `seq_length` - Number of characters in the sequence the network is trained on. Larger is better typically, the network will learn more long range dependencies. But it takes longer to train. 100 is typically a good number here.\n",
    "* `lr` - Learning rate for training\n",
    "\n",
    "Here's some good advice from Andrej Karpathy on training the network. I'm going to copy it in here for your benefit, but also link to [where it originally came from](https://github.com/karpathy/char-rnn#tips-and-tricks).\n",
    "\n",
    "> ## Tips and Tricks\n",
    "\n",
    ">### Monitoring Validation Loss vs. Training Loss\n",
    ">If you're somewhat new to Machine Learning or Neural Networks it can take a bit of expertise to get good models. The most important quantity to keep track of is the difference between your training loss (printed during training) and the validation loss (printed once in a while when the RNN is run on the validation data (by default every 1000 iterations)). In particular:\n",
    "\n",
    "> - If your training loss is much lower than validation loss then this means the network might be **overfitting**. Solutions to this are to decrease your network size, or to increase dropout. For example you could try dropout of 0.5 and so on.\n",
    "> - If your training/validation loss are about equal then your model is **underfitting**. Increase the size of your model (either number of layers or the raw number of neurons per layer)\n",
    "\n",
    "> ### Approximate number of parameters\n",
    "\n",
    "> The two most important parameters that control the model are `n_hidden` and `n_layers`. I would advise that you always use `n_layers` of either 2/3. The `n_hidden` can be adjusted based on how much data you have. The two important quantities to keep track of here are:\n",
    "\n",
    "> - The number of parameters in your model. This is printed when you start training.\n",
    "> - The size of your dataset. 1MB file is approximately 1 million characters.\n",
    "\n",
    ">These two should be about the same order of magnitude. It's a little tricky to tell. Here are some examples:\n",
    "\n",
    "> - I have a 100MB dataset and I'm using the default parameter settings (which currently print 150K parameters). My data size is significantly larger (100 mil >> 0.15 mil), so I expect to heavily underfit. I am thinking I can comfortably afford to make `n_hidden` larger.\n",
    "> - I have a 10MB dataset and running a 10 million parameter model. I'm slightly nervous and I'm carefully monitoring my validation loss. If it's larger than my training loss then I may want to try to increase dropout a bit and see if that helps the validation loss.\n",
    "\n",
    "> ### Best models strategy\n",
    "\n",
    ">The winning strategy to obtaining very good models (if you have the compute time) is to always err on making the network larger (as large as you're willing to wait for it to compute) and then try different dropout values (between 0,1). Whatever model has the best validation performance (the loss, written in the checkpoint filename, low is good) is the one you should use in the end.\n",
    "\n",
    ">It is very common in deep learning to run many different models with many different hyperparameter settings, and in the end take whatever checkpoint gave the best validation performance.\n",
    "\n",
    ">By the way, the size of your training and validation splits are also parameters. Make sure you have a decent amount of data in your validation set or otherwise the validation performance will be noisy and not very informative."
   ]
  },
  {
   "cell_type": "markdown",
   "metadata": {},
   "source": [
    "## Checkpoint\n",
    "\n",
    "After training, we'll save the model so we can load it again later if we need too. Here I'm saving the parameters needed to create the same architecture, the hidden layer hyperparameters and the text characters."
   ]
  },
  {
   "cell_type": "code",
   "execution_count": 30,
   "metadata": {},
   "outputs": [],
   "source": [
    "# change the name, for saving multiple files\n",
    "model_name = 'rnn_x_epoch.net'\n",
    "\n",
    "checkpoint = {'n_hidden': net.n_hidden,\n",
    "              'n_layers': net.n_layers,\n",
    "              'state_dict': net.state_dict(),\n",
    "              'tokens': net.chars}\n",
    "\n",
    "with open(model_name, 'wb') as f:\n",
    "    torch.save(checkpoint, f)"
   ]
  },
  {
   "cell_type": "markdown",
   "metadata": {},
   "source": [
    "---\n",
    "## Making Predictions\n",
    "\n",
    "Now that the model is trained, we'll want to sample from it and make predictions about next characters! To sample, we pass in a character and have the network predict the next character. Then we take that character, pass it back in, and get another predicted character. Just keep doing this and you'll generate a bunch of text!\n",
    "\n",
    "### A note on the `predict`  function\n",
    "\n",
    "The output of our RNN is from a fully-connected layer and it outputs a **distribution of next-character scores**.\n",
    "\n",
    "> To actually get the next character, we apply a softmax function, which gives us a *probability* distribution that we can then sample to predict the next character.\n",
    "\n",
    "### Top K sampling\n",
    "\n",
    "Our predictions come from a categorical probability distribution over all the possible characters. We can make the sample text and make it more reasonable to handle (with less variables) by only considering some $K$ most probable characters. This will prevent the network from giving us completely absurd characters while allowing it to introduce some noise and randomness into the sampled text. Read more about [topk, here](https://pytorch.org/docs/stable/torch.html#torch.topk).\n"
   ]
  },
  {
   "cell_type": "code",
   "execution_count": 31,
   "metadata": {},
   "outputs": [],
   "source": [
    "def predict(net, char, h=None, top_k=None):\n",
    "        ''' Given a character, predict the next character.\n",
    "            Returns the predicted character and the hidden state.\n",
    "        '''\n",
    "        \n",
    "        # tensor inputs\n",
    "        x = np.array([[net.char2int[char]]])\n",
    "        x = one_hot_encode(x, len(net.chars))\n",
    "        inputs = torch.from_numpy(x)\n",
    "        \n",
    "        if(train_on_gpu):\n",
    "            inputs = inputs.cuda()\n",
    "        \n",
    "        # detach hidden state from history\n",
    "        h = tuple([each.data for each in h])\n",
    "        # get the output of the model\n",
    "        out, h = net(inputs, h)\n",
    "\n",
    "        # get the character probabilities\n",
    "        p = F.softmax(out, dim=1).data\n",
    "        if(train_on_gpu):\n",
    "            p = p.cpu() # move to cpu\n",
    "        \n",
    "        # get top characters\n",
    "        if top_k is None:\n",
    "            top_ch = np.arange(len(net.chars))\n",
    "        else:\n",
    "            p, top_ch = p.topk(top_k)\n",
    "            top_ch = top_ch.numpy().squeeze()\n",
    "        \n",
    "        # select the likely next character with some element of randomness\n",
    "        p = p.numpy().squeeze()\n",
    "        char = np.random.choice(top_ch, p=p/p.sum())\n",
    "        \n",
    "        # return the encoded value of the predicted char and the hidden state\n",
    "        return net.int2char[char], h"
   ]
  },
  {
   "cell_type": "markdown",
   "metadata": {},
   "source": [
    "### Priming and generating text \n",
    "\n",
    "Typically you'll want to prime the network so you can build up a hidden state. Otherwise the network will start out generating characters at random. In general the first bunch of characters will be a little rough since it hasn't built up a long history of characters to predict from."
   ]
  },
  {
   "cell_type": "code",
   "execution_count": 32,
   "metadata": {},
   "outputs": [],
   "source": [
    "def sample(net, size, prime='The', top_k=None):\n",
    "        \n",
    "    if(train_on_gpu):\n",
    "        net.cuda()\n",
    "    else:\n",
    "        net.cpu()\n",
    "    \n",
    "    net.eval() # eval mode\n",
    "    \n",
    "    # First off, run through the prime characters\n",
    "    chars = [ch for ch in prime]\n",
    "    h = net.init_hidden(1)\n",
    "    for ch in prime:\n",
    "        char, h = predict(net, ch, h, top_k=top_k)\n",
    "\n",
    "    chars.append(char)\n",
    "    \n",
    "    # Now pass in the previous character and get a new one\n",
    "    for ii in range(size):\n",
    "        char, h = predict(net, chars[-1], h, top_k=top_k)\n",
    "        chars.append(char)\n",
    "\n",
    "    return ''.join(chars)"
   ]
  },
  {
   "cell_type": "code",
   "execution_count": 33,
   "metadata": {},
   "outputs": [
    {
     "name": "stdout",
     "output_type": "stream",
     "text": [
      "Anna her face and told him of the finss\n",
      "of her, and seeing she felt him at the carriage to the strange tine there had said, with a\n",
      "prince, she went at the person.\n",
      "\n",
      "There was to say. He saw, satconce, he\n",
      "welt that there armsting the sample shrounder, where saw his feore of his councess of the crunchess,\n",
      "took\n",
      "there anyore into simple steaking of some, there was not all the coustry of the presince all some our, and went to\n",
      "been so so that his heart he felt the possiof to\n",
      "be a last hand about the councess too him in her\n",
      "sisting of his hing of the camp at her husband's strange with\n",
      "which who was an answer, and he would have been\n",
      "satideater as he was atared at his hand, stronged at\n",
      "the\n",
      "sociouss, and a care were sating himself that the singer saw they tould herself as the position. His face with her heart\n",
      "weared\n",
      "to the\n",
      "peasants than in with a\n",
      "carrien fine and\n",
      "his head, same for the could not heard her\n",
      "face. And the most somithing the care, as tho was always to blome a servant and their cander that\n"
     ]
    }
   ],
   "source": [
    "print(sample(net, 1000, prime='Anna', top_k=5))"
   ]
  },
  {
   "cell_type": "markdown",
   "metadata": {},
   "source": [
    "## Loading a checkpoint"
   ]
  },
  {
   "cell_type": "code",
   "execution_count": 34,
   "metadata": {},
   "outputs": [
    {
     "data": {
      "text/plain": [
       "<All keys matched successfully>"
      ]
     },
     "execution_count": 34,
     "metadata": {},
     "output_type": "execute_result"
    }
   ],
   "source": [
    "# Here we have loaded in a model that trained over 20 epochs `rnn_20_epoch.net`\n",
    "with open('rnn_x_epoch.net', 'rb') as f:\n",
    "    checkpoint = torch.load(f)\n",
    "    \n",
    "loaded = CharRNN(checkpoint['tokens'], n_hidden=checkpoint['n_hidden'], n_layers=checkpoint['n_layers'])\n",
    "loaded.load_state_dict(checkpoint['state_dict'])"
   ]
  },
  {
   "cell_type": "code",
   "execution_count": 35,
   "metadata": {},
   "outputs": [
    {
     "name": "stdout",
     "output_type": "stream",
     "text": [
      "And Levin said a can at the position of the praces of her hister, and the might to speak on him\n",
      "to take any off and sense of his. \"What sid! I'll go to take a man over,\" he she\n",
      "told to the capitation, and he was really and went upon a part her eyes, and, he had no same wife.\n",
      "\n",
      "\"Thes is the peasant,\" said the convensed.\n",
      "\n",
      "\"You did not that stand was,\" said Stepan Arkadyevitch, he did not know him at\n",
      "the sidn and seat him transhed to be in the same simple world when he had\n",
      "asking him when he went attention of\n",
      "the sidity to teeling on a matering, the more of the sected on the\n",
      "startianch of her, he clued himself to hin askon.\n",
      "\n",
      "Stepan Arkadyevitch, was\n",
      "not so that he had been stronged of an extremely\n",
      "and troing out of seress.\n",
      "\n",
      "She departed his honess. They chented his same, who was starding at her, he was think that in her table, he had a portrated high three to timal into this happens. She dread his house, and he was so stanking of that\n",
      "hand.\n",
      "\n",
      "\"That is a gray on her arouse,\" she\n",
      "said to thing that she was sont as they could think in the facultion. The presise of her for a changed way was so to day for them with some stire, simply both had seem the\n",
      "boings, shoot her arong of the\n",
      "sick than\n",
      "sent the country was\n",
      "something on this\n",
      "serection of his\n",
      "way and a contraty of the marraed. She can at his cout and wonsers,\n",
      "the momong shalled way of the clied to the propise, but the men that something had all sected him, but he saw that some fealing whether she felt suppost in\n",
      "an one wife\n",
      "answered\n",
      "with the\n",
      "postries at the children was all her sigh for sumplice, and she saw that he had seen hardened. The state as important the country, a strack that he was as some face\n",
      "to be so something at him, the way shouse at the\n",
      "same thing, and the cold something\n",
      "word of the stand was the point the heads at the fortown of the proper he\n",
      "had a subjoct\n",
      "of his cheek in her sounce, he had to say the high the face with her. She\n",
      "was even asking his wairice. \"I dan't go,\" the pass that he was alrooused and with a stand, t\n"
     ]
    }
   ],
   "source": [
    "# Sample using a loaded model\n",
    "print(sample(loaded, 2000, top_k=5, prime=\"And Levin said\"))"
   ]
  },
  {
   "cell_type": "code",
   "execution_count": null,
   "metadata": {
    "collapsed": true,
    "jupyter": {
     "outputs_hidden": true
    }
   },
   "outputs": [],
   "source": []
  }
 ],
 "metadata": {
  "kernelspec": {
   "display_name": "Python 3",
   "language": "python",
   "name": "python3"
  },
  "language_info": {
   "codemirror_mode": {
    "name": "ipython",
    "version": 3
   },
   "file_extension": ".py",
   "mimetype": "text/x-python",
   "name": "python",
   "nbconvert_exporter": "python",
   "pygments_lexer": "ipython3",
   "version": "3.7.3"
  }
 },
 "nbformat": 4,
 "nbformat_minor": 4
}
